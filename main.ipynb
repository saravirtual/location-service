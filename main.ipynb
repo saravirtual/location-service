{
 "cells": [
  {
   "cell_type": "code",
   "id": "initial_id",
   "metadata": {
    "collapsed": true,
    "ExecuteTime": {
     "end_time": "2024-09-17T07:48:33.137673Z",
     "start_time": "2024-09-17T07:48:33.131962Z"
    }
   },
   "source": [
    "import requests\n",
    "from geopy.geocoders import Nominatim, GoogleV3, HereV7\n",
    "from geopy.location import Location\n",
    "from pprint import pprint\n",
    "\n",
    "lat = 34.649513079074204\n",
    "lon = 50.89177473703528"
   ],
   "outputs": [],
   "execution_count": 76
  },
  {
   "metadata": {},
   "cell_type": "markdown",
   "source": [
    "<hr />\n",
    "\n",
    "## OSM "
   ],
   "id": "91fbbb8f8158d9a0"
  },
  {
   "metadata": {
    "ExecuteTime": {
     "end_time": "2024-09-17T07:37:56.494007Z",
     "start_time": "2024-09-17T07:37:55.377499Z"
    }
   },
   "cell_type": "code",
   "source": [
    "def osm(lat, lon):\n",
    "    url = f\"https://nominatim.openstreetmap.org/reverse?lat={lat}&lon={lon}&format=json\"\n",
    "    response = requests.get(url)\n",
    "    if response.status_code != 200:\n",
    "        return None\n",
    "    data = response.json()\n",
    "    return data\n",
    "\n",
    "\n",
    "address = osm(lat, lon)\n",
    "pprint(address)"
   ],
   "id": "88d78278ccd7d19c",
   "outputs": [
    {
     "name": "stdout",
     "output_type": "stream",
     "text": [
      "{'address': {'ISO3166-2-lvl4': 'IR-25',\n",
      "             'city': 'شهر قم',\n",
      "             'country': 'ایران',\n",
      "             'country_code': 'ir',\n",
      "             'county': 'شهرستان قم',\n",
      "             'district': 'بخش مرکزی قم',\n",
      "             'neighbourhood': 'باجک یک',\n",
      "             'postcode': '37191-64678',\n",
      "             'road': 'نوزده دی ۲۳',\n",
      "             'state': 'استان قم',\n",
      "             'suburb': 'منطقه ۷'},\n",
      " 'addresstype': 'road',\n",
      " 'boundingbox': ['34.6482381', '34.6499039', '50.8914247', '50.8929002'],\n",
      " 'class': 'highway',\n",
      " 'display_name': 'نوزده دی ۲۳, باجک یک, منطقه ۷, شهر قم, بخش مرکزی قم, شهرستان '\n",
      "                 'قم, استان قم, 37191-64678, ایران',\n",
      " 'importance': 0.05339763714045926,\n",
      " 'lat': '34.649512051904246',\n",
      " 'licence': 'Data © OpenStreetMap contributors, ODbL 1.0. '\n",
      "            'http://osm.org/copyright',\n",
      " 'lon': '50.89177357545618',\n",
      " 'name': 'نوزده دی ۲۳',\n",
      " 'osm_id': 257445086,\n",
      " 'osm_type': 'way',\n",
      " 'place_id': 188444225,\n",
      " 'place_rank': 26,\n",
      " 'type': 'residential'}\n"
     ]
    }
   ],
   "execution_count": 59
  },
  {
   "metadata": {},
   "cell_type": "markdown",
   "source": [
    "<hr />\n",
    "\n",
    "## GeoyPy (Nominatim)"
   ],
   "id": "bcdc38ec31c2813e"
  },
  {
   "metadata": {
    "ExecuteTime": {
     "end_time": "2024-09-17T07:54:20.902132Z",
     "start_time": "2024-09-17T07:54:19.671727Z"
    }
   },
   "cell_type": "code",
   "source": [
    "geolocator: Nominatim = Nominatim(user_agent=\"geoapiExercises\")\n",
    "# location: Location = geolocator.reverse((lat, lon), exactly_one=True)\n",
    "location: Location = geolocator.reverse((lat, lon))\n",
    "pprint(location.raw, sort_dicts=False)\n",
    "print(location.raw.get(\"display_name\"))\n"
   ],
   "id": "bb69e4b533074d61",
   "outputs": [
    {
     "name": "stdout",
     "output_type": "stream",
     "text": [
      "{'place_id': 188444225,\n",
      " 'licence': 'Data © OpenStreetMap contributors, ODbL 1.0. '\n",
      "            'http://osm.org/copyright',\n",
      " 'osm_type': 'way',\n",
      " 'osm_id': 257445086,\n",
      " 'lat': '34.649512051904246',\n",
      " 'lon': '50.89177357545618',\n",
      " 'class': 'highway',\n",
      " 'type': 'residential',\n",
      " 'place_rank': 26,\n",
      " 'importance': 0.05339763714045926,\n",
      " 'addresstype': 'road',\n",
      " 'name': 'نوزده دی ۲۳',\n",
      " 'display_name': 'نوزده دی ۲۳, باجک یک, منطقه ۷, شهر قم, بخش مرکزی قم, شهرستان '\n",
      "                 'قم, استان قم, 37191-64678, ایران',\n",
      " 'address': {'road': 'نوزده دی ۲۳',\n",
      "             'neighbourhood': 'باجک یک',\n",
      "             'suburb': 'منطقه ۷',\n",
      "             'city': 'شهر قم',\n",
      "             'district': 'بخش مرکزی قم',\n",
      "             'county': 'شهرستان قم',\n",
      "             'state': 'استان قم',\n",
      "             'ISO3166-2-lvl4': 'IR-25',\n",
      "             'postcode': '37191-64678',\n",
      "             'country': 'ایران',\n",
      "             'country_code': 'ir'},\n",
      " 'boundingbox': ['34.6482381', '34.6499039', '50.8914247', '50.8929002']}\n",
      "نوزده دی ۲۳, باجک یک, منطقه ۷, شهر قم, بخش مرکزی قم, شهرستان قم, استان قم, 37191-64678, ایران\n"
     ]
    }
   ],
   "execution_count": 77
  },
  {
   "metadata": {},
   "cell_type": "markdown",
   "source": [
    "<hr />\n",
    "\n",
    "## Google Maps"
   ],
   "id": "95e285e4e348d3c1"
  },
  {
   "metadata": {
    "ExecuteTime": {
     "end_time": "2024-09-17T07:18:56.933002Z",
     "start_time": "2024-09-17T07:18:54.944646Z"
    }
   },
   "cell_type": "code",
   "source": [
    "def google_maps(lat, lon, api_key):\n",
    "    url = f\"https://maps.googleapis.com/maps/api/geocode/json?latlng={lat},{lon}&key={api_key}\"\n",
    "    response = requests.get(url)\n",
    "    if response.status_code == 200:\n",
    "        results = response.json().get('results')\n",
    "        if results:\n",
    "            return results[0]['formatted_address']\n",
    "    return None\n",
    "\n",
    "\n",
    "address = google_maps(lat, lon, \"\")\n",
    "pprint(address)"
   ],
   "id": "db5cfa474a607394",
   "outputs": [
    {
     "name": "stdout",
     "output_type": "stream",
     "text": [
      "None\n"
     ]
    }
   ],
   "execution_count": 56
  }
 ],
 "metadata": {
  "kernelspec": {
   "display_name": "Python 3",
   "language": "python",
   "name": "python3"
  },
  "language_info": {
   "codemirror_mode": {
    "name": "ipython",
    "version": 2
   },
   "file_extension": ".py",
   "mimetype": "text/x-python",
   "name": "python",
   "nbconvert_exporter": "python",
   "pygments_lexer": "ipython2",
   "version": "2.7.6"
  }
 },
 "nbformat": 4,
 "nbformat_minor": 5
}
